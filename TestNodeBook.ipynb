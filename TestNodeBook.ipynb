{
  "nbformat": 4,
  "nbformat_minor": 0,
  "metadata": {
    "colab": {
      "name": "TestNodeBook.ipynb",
      "provenance": [],
      "authorship_tag": "ABX9TyNnEn6pT7iGBohbeZrOy+Xe",
      "include_colab_link": true
    },
    "kernelspec": {
      "name": "python3",
      "display_name": "Python 3"
    },
    "language_info": {
      "name": "python"
    }
  },
  "cells": [
    {
      "cell_type": "markdown",
      "metadata": {
        "id": "view-in-github",
        "colab_type": "text"
      },
      "source": [
        "<a href=\"https://colab.research.google.com/github/xvelichkov/softuni_ai_module/blob/colab-test/TestNodeBook.ipynb\" target=\"_parent\"><img src=\"https://colab.research.google.com/assets/colab-badge.svg\" alt=\"Open In Colab\"/></a>"
      ]
    },
    {
      "cell_type": "markdown",
      "source": [
        "# Hello Github From Colab"
      ],
      "metadata": {
        "id": "4cnem4IoNfsv"
      }
    },
    {
      "cell_type": "code",
      "source": [
        ""
      ],
      "metadata": {
        "id": "2pW3zUcvNj_Z"
      },
      "execution_count": null,
      "outputs": []
    }
  ]
}