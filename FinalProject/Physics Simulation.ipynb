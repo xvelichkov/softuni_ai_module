{
 "cells": [
  {
   "cell_type": "code",
   "execution_count": 1,
   "metadata": {},
   "outputs": [],
   "source": [
    "%matplotlib inline"
   ]
  },
  {
   "cell_type": "code",
   "execution_count": 2,
   "metadata": {},
   "outputs": [],
   "source": [
    "import numpy as np\n",
    "import matplotlib.pyplot as plt\n",
    "import ipycanvas\n",
    "import time\n",
    "import math"
   ]
  },
  {
   "cell_type": "markdown",
   "metadata": {},
   "source": [
    "# Physics Simulation\n",
    "\n",
    "\n",
    "A physics engine is computer software that provides an approximate simulation of certain physical systems, such as rigid body dynamics (including collision detection), soft body dynamics, and fluid dynamics, of use in the domains of computer graphics, video games and film (CGI). Their main uses are in video games (typically as middleware), in which case the simulations are in real-time. The term is sometimes used more generally to describe any software system for simulating physical phenomena\n",
    "\n",
    "\n",
    "## 1. Introduction\n",
    "\n",
    "Through this notebook we will describe and simulate things that naturally occurs in our physical world. In this notebook \"the world\" is 2D canvas."
   ]
  },
  {
   "cell_type": "markdown",
   "metadata": {},
   "source": [
    "## 2. Position and Displacement vector\n",
    "\n",
    "To simulate any physical phenomenon first we must be able to describe its position. Where the object is at any particular time. The position of the object could be described as a vector relative to the origin of a coordinate system $ \\vec{r} $\n",
    "\n",
    "\n",
    "$$ \\vec{r} = \\begin{pmatrix} x \\\\ y \\end{pmatrix} = x\\hat{i} + y\\hat{j} $$"
   ]
  },
  {
   "cell_type": "code",
   "execution_count": 3,
   "metadata": {},
   "outputs": [],
   "source": [
    "def plot_vectors(vectors, colors):\n",
    "    \"\"\"\n",
    "    Plots vectors on the xy-plane. The `vectors` parameter is a Python list.\n",
    "    Each vector is specified in the format [start_x, start_y, end_x, end_y]\n",
    "    \"\"\"\n",
    "    vectors = np.array(vectors)\n",
    "    x_start = vectors[:, 0]\n",
    "    y_start = vectors[:, 1]\n",
    "\n",
    "    x_end = vectors[:, 2]\n",
    "    y_end = vectors[:, 3]\n",
    "    \n",
    "    u = x_end - x_start\n",
    "    v = y_end - y_start\n",
    "    \n",
    "    xlim_min = np.min(np.minimum(x_start, x_end))\n",
    "    xlim_max = np.max(np.maximum(x_start, x_end))\n",
    "    ylim_min = np.min(np.minimum(y_start, y_end))\n",
    "    ylim_max = np.max(np.maximum(y_start, y_end))\n",
    "\n",
    "\n",
    "    plt.scatter(x_end, y_end, color=colors)\n",
    "    \n",
    "    plt.xlim(xlim_min - 0.5, xlim_max + 0.5)\n",
    "    plt.ylim(ylim_min - 0.5, ylim_max + 0.5)\n",
    "\n",
    "    ax = plt.gca()\n",
    "    plt.quiver(x_start, y_start, u, v, angles = \"xy\", scale_units = \"xy\", scale = 1, color=colors)\n",
    "    ax.spines[\"bottom\"].set_position(\"zero\")\n",
    "    ax.spines[\"left\"].set_position(\"zero\")\n",
    "    ax.spines[\"top\"].set_visible(False)\n",
    "    ax.spines[\"right\"].set_visible(False)\n",
    "    ax.set_aspect(\"equal\")\n",
    "\n",
    "    plt.show()"
   ]
  },
  {
   "cell_type": "code",
   "execution_count": 4,
   "metadata": {},
   "outputs": [
    {
     "data": {
      "image/png": "[encoded data removed]",
      "text/plain": [
       "<Figure size 432x288 with 1 Axes>"
      ]
     },
     "metadata": {
      "needs_background": "light"
     },
     "output_type": "display_data"
    }
   ],
   "source": [
    "plot_vectors([[0, 0, 2, 3]] ,[\"red\"])"
   ]
  },
  {
   "cell_type": "markdown",
   "metadata": {},
   "source": [
    "If an object moves to some position relative to its original position then object position changes. This change is called displacement.\n",
    "\n",
    "\n",
    "$$ \\Delta\\vec{r} = \\vec{r_{n+1}} - \\vec{r_n} $$\n"
   ]
  },
  {
   "cell_type": "code",
   "execution_count": 5,
   "metadata": {},
   "outputs": [
    {
     "data": {
      "image/png": "[encoded data removed]",
      "text/plain": [
       "<Figure size 432x288 with 1 Axes>"
      ]
     },
     "metadata": {
      "needs_background": "light"
     },
     "output_type": "display_data"
    }
   ],
   "source": [
    "r1 = np.array([2, 3])\n",
    "r2 = np.array([1, 4])\n",
    "dr = r2 - r1\n",
    "\n",
    "r1 = [0, 0, 2, 3]\n",
    "r2 = [0, 0, 1, 4]\n",
    "dr = [2, 3, 1, 4]\n",
    "\n",
    "plot_vectors([r1, r2, dr], [\"red\", \"blue\", \"purple\"])"
   ]
  },
  {
   "cell_type": "markdown",
   "metadata": {},
   "source": [
    "red point is the initial position, blue point is the new position , purple vector is the displacement vector"
   ]
  },
  {
   "cell_type": "markdown",
   "metadata": {},
   "source": [
    "Objects in motion can also have series of displacements. The total displacements is sum of individual displacements\n",
    "\n",
    "$$  \\Delta\\vec{s_{total}} = \\sum_{i = 0}^{n} \\Delta\\vec{r_i}  $$\n",
    "\n",
    "The total distance traveled is the sum of the magnitudes of all displacement vectors\n",
    "\n",
    "$$ s_{total} = \\sum_{i = 0}^{n} \\left | \\Delta\\vec{r_i}  \\right | $$"
   ]
  },
  {
   "cell_type": "markdown",
   "metadata": {},
   "source": [
    "## 3. Velocity\n",
    "\n",
    "Motion is the phenomenon in which an object changes its position overtime. Velocity $ \\vec{v} $ is a vector quantity that measures displacement $ {\\Delta}\\vec{s} $  over the change in time $ {\\Delta}t $. In other words velocity is rate of change of position over time.\n",
    "\n",
    "\n",
    "$$ \\vec{v} = \\frac{{\\Delta}\\vec{s}}{{\\Delta}t} = \\frac{ {\\Delta}\\vec{s_{n+1}} - {\\Delta}\\vec{s_{n}} }{t_{n+1} - t_{n}} $$\n"
   ]
  },
  {
   "cell_type": "code",
   "execution_count": 6,
   "metadata": {},
   "outputs": [
    {
     "name": "stdout",
     "output_type": "stream",
     "text": [
      "Velocity between s[1] and s[0]: [1. 1.]\n",
      "Average veloctity: [1. 1.]\n"
     ]
    }
   ],
   "source": [
    "t = np.arange(0, 10, 1)\n",
    "x = np.arange(0, 10, 1)\n",
    "y = x\n",
    "\n",
    "s = np.array([(x_i, y_i) for x_i, y_i in zip(x, y)])\n",
    "\n",
    "v_01 = (s[1] - s[0]) / (t[1] - t[0])\n",
    "v_average = np.add.reduce([ (s[i+1] - s[i]) / (t[i+1] - t[i]) for i in range(len(s)-1)])/(t[9] - t[0])\n",
    "print(f\"Velocity between s[1] and s[0]: {v_01}\")\n",
    "print(f\"Average veloctity: {v_average}\")"
   ]
  },
  {
   "cell_type": "code",
   "execution_count": 7,
   "metadata": {},
   "outputs": [
    {
     "data": {
      "image/png": "[encoded data removed]",
      "text/plain": [
       "<Figure size 432x288 with 1 Axes>"
      ]
     },
     "metadata": {
      "needs_background": "light"
     },
     "output_type": "display_data"
    }
   ],
   "source": [
    "plt.scatter(x, y)\n",
    "plt.xlabel(\"x\")\n",
    "plt.ylabel(\"y\")\n",
    "plt.title(\"Motion\")\n",
    "plt.show()"
   ]
  },
  {
   "cell_type": "markdown",
   "metadata": {},
   "source": [
    "From above, it is clear that velocity is:\n",
    "\n",
    "$$ \\vec{v} = \\begin{pmatrix} 1 \\\\ 1 \\end{pmatrix} $$\n",
    "\n",
    "which means between two points, object moves 1 right and 1 up "
   ]
  },
  {
   "cell_type": "markdown",
   "metadata": {},
   "source": [
    "We can describe motion as a function:\n",
    "\n",
    "$$ \\vec{s}(t) = \\vec{s_{0}} + \\vec{v}t $$\n",
    "\n",
    "\n",
    "To find velocity at any position(instantaneous velocity) we let $ t_{1} = t $ and $ t_{2} = t + {\\Delta}t $. After inserting these expressions in the equation for velocity and get the limit as $ {\\Delta}t \\rightarrow 0$. We find the expression for the instantaneous velocity:\n",
    "\n",
    "$$ \\vec{v}(t) = \\lim_{{\\Delta}t \\rightarrow 0}{\\frac{\\vec{s}(t + {\\Delta}t) - \\vec{s}(t)}{{\\Delta}t}} = \\frac{d\\vec{s}(t)}{dt} $$\n",
    "    "
   ]
  },
  {
   "cell_type": "markdown",
   "metadata": {},
   "source": [
    "## 4. Acceleration\n",
    "\n",
    "Acceleration is rate of change of velocity over time. \n",
    "\n",
    "$$ \\vec{a} = \\frac{{\\Delta}\\vec{v}}{{\\Delta}t} = \\frac{ {\\Delta}\\vec{v_{n+1}} - {\\Delta}\\vec{v_{n}} }{t_{n+1} - t_{n}} $$\n",
    "\n",
    "We can describe the velocity as a function:\n",
    "\n",
    "$$ \\vec{v}(t) = \\vec{v_{0}} + \\vec{a}t $$\n",
    "\n",
    "To find acceleration at any position(instantaneous acceleration) we let $ t_{1} = t $ and $ t_{2} = t + {\\Delta}t $. After inserting these expressions in the equation for acceleration and get the limit as $ {\\Delta}t \\rightarrow 0$. We find the expression for the instantaneous acceleration:\n",
    "\n",
    "$$ \\vec{a}(t) = \\lim_{{\\Delta}t \\rightarrow 0}{\\frac{\\vec{v}(t + {\\Delta}t) - \\vec{v}(t)}{{\\Delta}t}} = \\frac{d\\vec{v}(t)}{dt} $$"
   ]
  },
  {
   "cell_type": "markdown",
   "metadata": {},
   "source": [
    "## 5. Simulator with ipycanvas\n",
    "\n",
    "### 5.1 ipycanvas coordinate system\n",
    "\n",
    "As opposite to matplotlib, where its origin is located at bottom left corner, in the coordinate system defined by [ipycanvas](https://ipycanvas.readthedocs.io/en/latest/index.html), origin is located at top left corner. All elements are placed relative to this origin. For example top left corner of the blue square is located x pixels from the left and y pixels from the top at coordinates (x, y)\n",
    "\n",
    "![coordinate system](https://ipycanvas.readthedocs.io/en/latest/_images/grid.png)"
   ]
  },
  {
   "cell_type": "markdown",
   "metadata": {},
   "source": [
    "### 5.2 Vector"
   ]
  },
  {
   "cell_type": "code",
   "execution_count": 8,
   "metadata": {},
   "outputs": [],
   "source": [
    "class Vector2D:\n",
    "    def __init__(self, x, y):\n",
    "        \"\"\"\n",
    "            two dimensional vector\n",
    "        \"\"\"\n",
    "        self.x = x\n",
    "        self.y = y\n",
    "        self.mag = math.sqrt(self.x**2 + self.y**2)\n",
    "\n",
    "    def normalize(self):\n",
    "        return self / self.mag\n",
    "        \n",
    "    def limit(self, maxm):\n",
    "        if self.mag > maxm:\n",
    "            multiplier = maxm/self.mag\n",
    "        else:\n",
    "            multiplier = 1.0\n",
    "            \n",
    "        return self * multiplier\n",
    "        \n",
    "    def __add__(self, other):\n",
    "        \"\"\" Vector addition \"\"\"\n",
    "        return Vector2D(self.x + other.x, self.y + other.y)  \n",
    "    \n",
    "    def __mul__(self, scalar):\n",
    "        \"\"\" Vector scalar multiplication \"\"\" \n",
    "        return Vector2D(self.x * scalar, self.y * scalar)\n",
    "    \n",
    "    def __truediv__(self, scalar):\n",
    "        return Vector2D(self.x / scalar, self.y / scalar)\n",
    "    \n",
    "    def __sub__(self, other):\n",
    "        \"\"\" Vector subtraction\"\"\"\n",
    "        return Vector2D(self.x - other.x, self.y - other.y)\n",
    "    \n",
    "    def __gt__(self, other):\n",
    "        return self.mag > other.mag\n",
    "        \n",
    "    def __str__(self):\n",
    "        return f\"({self.x}, {self.y})\""
   ]
  },
  {
   "cell_type": "markdown",
   "metadata": {},
   "source": [
    "### 5.3 Object2D"
   ]
  },
  {
   "cell_type": "code",
   "execution_count": 19,
   "metadata": {},
   "outputs": [],
   "source": [
    "class Object2D:\n",
    "    def __init__(self, position):\n",
    "        \"\"\"\n",
    "            Object which is controled by the simulation\n",
    "            possition - 2D vector describing displacement from 0,0\n",
    "        \"\"\"\n",
    "        self.position = position\n",
    "        self.forces = []\n",
    "\n",
    "    def draw(self, canvas):\n",
    "        \"\"\"\n",
    "            draw object on the canvas\n",
    "        \"\"\"\n",
    "        raise NotImplemented()\n",
    "\n",
    "    def update(self, canvas):\n",
    "        \"\"\"\n",
    "            update the object\n",
    "        \"\"\"\n",
    "        raise NotImplemented()"
   ]
  },
  {
   "cell_type": "markdown",
   "metadata": {},
   "source": [
    "### 5.4 Simulation"
   ]
  },
  {
   "cell_type": "code",
   "execution_count": 21,
   "metadata": {},
   "outputs": [],
   "source": [
    "class Simulation:\n",
    "    def __init__(self, width=200, height=200):\n",
    "        self.width = width\n",
    "        self.height = height\n",
    "        self.multi_canvas = ipycanvas.MultiCanvas(2, width=self.width, height=self.height)\n",
    "        \n",
    "        self.background_canvas = self.multi_canvas[1]\n",
    "        self.background_canvas.stroke_style = \"black\"\n",
    "        self.background_canvas.stroke_rect(0, 0, self.width, self.height)\n",
    "        \n",
    "        self.canvas = self.multi_canvas[0]\n",
    "        \n",
    "        display(self.multi_canvas)\n",
    "        self.objects = []\n",
    "        self.fps = 60\n",
    "        self.frameDelay = 1 / self.fps;\n",
    "        \n",
    "    def addObject(self, object2D):\n",
    "        \"\"\"\n",
    "            Add Object2D to the simulation\n",
    "        \"\"\"\n",
    "        self.objects.append(object2D)\n",
    "\n",
    "    def draw(self):\n",
    "        \"\"\"\n",
    "            Draw every Object2D to the canvas\n",
    "        \"\"\"\n",
    "        for obj in self.objects:\n",
    "            obj.draw(self.canvas)\n",
    "\n",
    "    def update(self):\n",
    "        \"\"\"\n",
    "            phisics update every Object2D\n",
    "        \"\"\"\n",
    "        for obj in self.objects:\n",
    "            obj.update(self.canvas)\n",
    "\n",
    "    def run(self, period):\n",
    "        \"\"\"\n",
    "            period - simulation time in seconds \n",
    "            Run Simation:\n",
    "                1. Update\n",
    "                2. Draw\n",
    "        \"\"\"\n",
    "        simulationStart = time.time()\n",
    "        deltaTime = 0\n",
    "\n",
    "        while True:\n",
    "            \n",
    "            frameStart = time.time()\n",
    "            self.update()\n",
    "\n",
    "            with ipycanvas.hold_canvas(self.multi_canvas):\n",
    "                self.canvas.clear()\n",
    "                self.draw()\n",
    "                \n",
    "            frameEnd = time.time()\n",
    "            \n",
    "            if((frameEnd - simulationStart) > period):\n",
    "                break\n",
    "            \n",
    "            deltaTime = frameEnd - frameStart\n",
    "            \n",
    "            #cap FPS\n",
    "            if deltaTime < self.frameDelay:\n",
    "                time.sleep(self.frameDelay - deltaTime)"
   ]
  },
  {
   "cell_type": "code",
   "execution_count": 156,
   "metadata": {},
   "outputs": [],
   "source": [
    "class Rectangle(Object2D):\n",
    "    def __init__(self, position, width, height, velocity=Vector2D(0, 0), accelaration=Vector2D(0, 0)):\n",
    "        super().__init__(position)\n",
    "        self.velocity = velocity\n",
    "        self.accelaration = accelaration\n",
    "        self.max_speed = 4\n",
    "        self.width = width\n",
    "        self.height = height\n",
    "\n",
    "    def checkEdges(self, canvas):\n",
    "        if self.position.x > canvas.width:\n",
    "            self.position.x = 0\n",
    "\n",
    "        elif self.position.x < 0:\n",
    "            self.position.x = canvas.width\n",
    "\n",
    "        if self.position.y > canvas.height:\n",
    "            self.position.y = 0\n",
    "        elif self.position.y < 0:\n",
    "            self.position.y = canvas.height\n",
    "\n",
    "    def update(self, canvas):\n",
    "        self.velocity += self.accelaration\n",
    "        self.velocity = self.velocity.limit(self.max_speed)\n",
    "        self.position += self.velocity\n",
    "\n",
    "        self.checkEdges(canvas)\n",
    "\n",
    "    def draw(self, canvas):\n",
    "        canvas.fill_rect(self.position.x,\n",
    "                         self.position.y, self.width, self.height)\n"
   ]
  },
  {
   "cell_type": "code",
   "execution_count": 157,
   "metadata": {},
   "outputs": [
    {
     "data": {
      "application/vnd.jupyter.widget-view+json": {
       "model_id": "298d892431234ab68880260f18d1c38b",
       "version_major": 2,
       "version_minor": 0
      },
      "text/plain": [
       "MultiCanvas(height=100, width=500)"
      ]
     },
     "metadata": {},
     "output_type": "display_data"
    }
   ],
   "source": [
    "sim = Simulation(500, 100)\n",
    "rect = Rectangle(position=Vector2D(50, 50),\n",
    "                 width=20, height=20,\n",
    "                 velocity=Vector2D(0, 0), \n",
    "                 accelaration=Vector2D(0.01, 0.01))\n",
    "sim.addObject(rect)\n",
    "sim.run(5)"
   ]
  },
  {
   "cell_type": "code",
   "execution_count": 13,
   "metadata": {},
   "outputs": [],
   "source": [
    "class Static(Rectangle):\n",
    "    def __init__(self, position, width, height):\n",
    "        super().__init__(position, width, height)\n",
    "        self.width = width\n",
    "        self.height = height\n",
    "\n",
    "    def update(self, canvas):\n",
    "        pass\n",
    "\n",
    "\n",
    "class Follower(Rectangle):\n",
    "    def __init__(self, position, width, height,  goto):\n",
    "        super().__init__(position, width, height)\n",
    "        self.width = width\n",
    "        self.height = height\n",
    "        self.goto = goto\n",
    "        self.a_factor = 0.1\n",
    "\n",
    "    def update(self, canvas):\n",
    "        direction = (self.goto - self.position).normalize()\n",
    "\n",
    "        self.accelaration = direction * self.a_factor\n",
    "        super().update(canvas)\n",
    "\n",
    "    def draw(self, canvas):\n",
    "\n",
    "        canvas.global_alpha = 0.1\n",
    "        super().draw(canvas)\n",
    "        canvas.global_alpha = 1\n",
    "        canvas.stroke_style = \"black\"\n",
    "        canvas.stroke_rect(self.position.x,\n",
    "                           self.position.y, self.width, self.height)"
   ]
  },
  {
   "cell_type": "code",
   "execution_count": 14,
   "metadata": {},
   "outputs": [
    {
     "data": {
      "application/vnd.jupyter.widget-view+json": {
       "model_id": "71a9ee1ab4944a5faa6ed8df1939f4fd",
       "version_major": 2,
       "version_minor": 0
      },
      "text/plain": [
       "MultiCanvas(height=200, width=500)"
      ]
     },
     "metadata": {},
     "output_type": "display_data"
    }
   ],
   "source": [
    "sim = Simulation(500, 200)\n",
    "\n",
    "static = Static(position=Vector2D(240, 90),\n",
    "               width=10, height=10)\n",
    "\n",
    "n = 1\n",
    "for f_i in range(10):\n",
    "    n *= -1 \n",
    "    sim.addObject(Follower(position=Vector2D( ( 5 + (f_i * 20)) , n*30 + (f_i * 10)), width=10, height=10, goto=static.position))\n",
    "    \n",
    "sim.addObject(static)\n",
    "\n",
    "sim.run(5)"
   ]
  },
  {
   "cell_type": "markdown",
   "metadata": {},
   "source": [
    "## 5. Forces. Newton's laws of motion\n",
    "\n",
    "A force is a vector that causes an object with mass to accelerate. It is mathematical tool that is introduced in Newton’s theory of physics.\n",
    "\n",
    "### 5.1 Newton’s First Law\n",
    "\n",
    "The first law states that an object at rest will stay at rest, and an object in motion will stay in motion unless acted on by a net external force. Mathematically, this is equivalent to saying that if the net force on an object is zero, then the velocity of the object is constant.\n",
    "\n",
    "\n",
    "$$ \\sum{\\vec{F}} = 0 \\Leftrightarrow \\frac{d\\vec{v}(t)}{dt} = 0  $$\n",
    "\n",
    "### 5.2 Newton's Second Law\n",
    "\n",
    "The second law states that the rate of change of momentum of a body over time is directly proportional to the force applied, and occurs in the same direction as the applied force. For objects with constant mass:\n",
    "\n",
    "\n",
    "$$ \\sum{\\vec{F}} = \\frac{d(m{\\vec{v}}(t))}{dt} = m\\frac{d{\\vec{v}}(t)}{dt} = m\\vec{a} $$\n",
    "\n",
    "### 5.3 Newton's Third Law\n",
    "\n",
    "The third law states that all forces between two objects exist in equal magnitude and opposite direction: if one object $ A $ exerts a force $\\vec{F_A}$ on a second object $ B $, then $ B $ simultaneously exerts a force $ \\vec{F_B} $ on $ A $, and the two forces are equal in magnitude and opposite in direction: \n",
    "\n",
    "$$ \\vec{F_A} = -\\vec{F_B} $$"
   ]
  },
  {
   "cell_type": "code",
   "execution_count": 144,
   "metadata": {},
   "outputs": [],
   "source": [
    "class NewtonCircle(Object2D):\n",
    "    def __init__(self, position, radius, mass):\n",
    "        super().__init__(position)\n",
    "        self.radius = radius\n",
    "        self.mass = mass\n",
    "        self.velocity = Vector2D(0, 0)\n",
    "        self.acceleration = Vector2D(0, 0)\n",
    "        self.forces = []\n",
    "    \n",
    "    def copy(self):\n",
    "        return NewtonCircle(self.position, self.radius, self.mass)\n",
    "    \n",
    "    def bounce(self, canvas):\n",
    "        if self.position.x+self.radius > canvas.width:\n",
    "            self.position.x = canvas.width - self.radius\n",
    "            self.velocity.x *= -1\n",
    "            \n",
    "        elif self.position.x < 0:\n",
    "            self.position.x = 0\n",
    "            self.velocity.x *= -1\n",
    "            \n",
    "            \n",
    "        if self.position.y+self.radius > canvas.height:\n",
    "            self.position.y = canvas.height - self.radius\n",
    "            self.velocity.y *= -1\n",
    "            \n",
    "        elif self.position.y < 0:\n",
    "            self.position.y = 0\n",
    "            self.velocity.y *= -1\n",
    "    \n",
    "    def addForce(self, force):\n",
    "        self.forces.append(force)\n",
    "    \n",
    "    def draw(self, canvas):\n",
    "        canvas.stroke_style = \"black\"\n",
    "        canvas.stroke_circle(self.position.x, self.position.y, self.radius)\n",
    "        \n",
    "        canvas.global_alpha = 0.3\n",
    "        canvas.fill_circle(self.position.x, self.position.y, self.radius)\n",
    "        canvas.global_alpha = 1\n",
    "        \n",
    "    def applyForces(self):\n",
    "        for force in self.forces:\n",
    "            self.acceleration += (force / self.mass)\n",
    "            \n",
    "    def update(self, canvas):\n",
    "        \n",
    "        self.applyForces()\n",
    "        self.velocity += self.acceleration\n",
    "        \n",
    "        self.velocity.limit(5)\n",
    "        \n",
    "        self.position += self.velocity\n",
    "        self.bounce(canvas)\n",
    "        self.acceleration *= 0 "
   ]
  },
  {
   "cell_type": "code",
   "execution_count": 145,
   "metadata": {},
   "outputs": [
    {
     "data": {
      "application/vnd.jupyter.widget-view+json": {
       "model_id": "518aa49e562e4cd9af4abf9cfd02338c",
       "version_major": 2,
       "version_minor": 0
      },
      "text/plain": [
       "MultiCanvas(height=200, width=500)"
      ]
     },
     "metadata": {},
     "output_type": "display_data"
    }
   ],
   "source": [
    "sim = Simulation(500, 200)\n",
    "\n",
    "circle = NewtonCircle(position=Vector2D(240, 90),\n",
    "                      radius=10,\n",
    "                      mass=1)\n",
    "\n",
    "circle1 = circle.copy()\n",
    "circle1.velocity = Vector2D(0, 1)\n",
    "\n",
    "sim.addObject(circle)\n",
    "sim.addObject(circle1)\n",
    "sim.run(1)"
   ]
  },
  {
   "cell_type": "markdown",
   "metadata": {},
   "source": [
    "Newton's first law. Objects do not change their states without forces."
   ]
  },
  {
   "cell_type": "code",
   "execution_count": 155,
   "metadata": {},
   "outputs": [
    {
     "data": {
      "application/vnd.jupyter.widget-view+json": {
       "model_id": "59f74c325ff9470684ac3eb18d9ca14d",
       "version_major": 2,
       "version_minor": 0
      },
      "text/plain": [
       "MultiCanvas(height=200, width=500)"
      ]
     },
     "metadata": {},
     "output_type": "display_data"
    }
   ],
   "source": [
    "sim = Simulation(500, 200)\n",
    "\n",
    "\n",
    "f1 = Vector2D(0.1, 0);\n",
    "f2 = Vector2D(0, 0.5);\n",
    "\n",
    "circle = NewtonCircle(position=Vector2D(240, 90),\n",
    "                      radius=10,\n",
    "                      mass=5)\n",
    "\n",
    "circle1 = NewtonCircle(position=Vector2D(240, 90),\n",
    "                      radius=20,\n",
    "                      mass=10)\n",
    "\n",
    "circle.addForce(f1)\n",
    "circle.addForce(f2)\n",
    "\n",
    "circle1.addForce(f1)\n",
    "circle1.addForce(f2)\n",
    "\n",
    "sim.addObject(circle)\n",
    "sim.addObject(circle1)\n",
    "\n",
    "sim.run(10)"
   ]
  },
  {
   "cell_type": "markdown",
   "metadata": {},
   "source": [
    "Newton's second law. Forces are proportional to the mass"
   ]
  },
  {
   "cell_type": "code",
   "execution_count": 154,
   "metadata": {},
   "outputs": [
    {
     "data": {
      "application/vnd.jupyter.widget-view+json": {
       "model_id": "d0dc0214b476444580f1311fc082f8be",
       "version_major": 2,
       "version_minor": 0
      },
      "text/plain": [
       "MultiCanvas(height=200, width=500)"
      ]
     },
     "metadata": {},
     "output_type": "display_data"
    }
   ],
   "source": [
    "sim = Simulation(500, 200)\n",
    "\n",
    "\n",
    "f1 = Vector2D(0.1, 0);\n",
    "\n",
    "circle = NewtonCircle(position=Vector2D(240, 90),\n",
    "                      radius=10,\n",
    "                      mass=10)\n",
    "\n",
    "circle.addForce(f1)\n",
    "circle.addForce(f1*-1)\n",
    "\n",
    "sim.addObject(circle)\n",
    "\n",
    "sim.run(1)"
   ]
  },
  {
   "cell_type": "markdown",
   "metadata": {},
   "source": [
    "Newton's third law. Forces are canceled out."
   ]
  },
  {
   "cell_type": "markdown",
   "metadata": {},
   "source": [
    "## 6. Collision detection\n",
    "\n",
    "Collision detection is the computational problem of detecting the intersection of two or more objects.\n",
    "Algorithms to detect collision in 2D world depend on the type of shapes that can collide (e.g. Rectangle to Rectangle, Rectangle to Circle, Circle to Circle).\n",
    "\n",
    "### 1.  Axis-Aligned Bounding Box (AABB)\n",
    "\n",
    "Axis-Aligned Bounding Box collision detection, or AABB for short, is one of the simplest forms of collision detection. The Bounding Box part of the name just refers to a rectangular structure that defines the surface area of an object. Axis-Aligned means that the bounding boxes of the objects being compared for collision are aligned on both their x and y axes.\n",
    "\n",
    "\n",
    "![image](data:image/png;base64,iVBORw0KGgoAAAANSUhEUgAABQAAAALQCAYAAADPfd1WAAAAAXNSR0IArs4c6QAAFhpJREFUeJzt3bttI0kUQNHtBROYWBiKwpGtKCYG2hMFY5kQei1hP1hK/HSzui/PsUnggQaNi1dV08/Tr/kPAAAAACDpz9EDAAAAAADrEQABAAAAIEwABAAAAIAwARAAAAAAwgRAAAAAAAgTAAEAAAAgTAAEAAAAgDABEAAAAADCBEAAAAAACBMAAQAAACBMAAQAAACAMAEQAAAAAMIEQAAAAAAIEwABAAAAIEwABAAAAIAwARAAAAAAwgRAAAAAAAgTAAEAAAAgTAAEAAAAgDABEAAAAADCBEAAAAAACBMAAQAAACBMAAQAAACAMAEQAAAAAMIEQAAAAAAIEwABAAAAIEwABAAAAIAwARAAAAAAwgRAAAAAAAgTAAEAAAAgTAAEAAAAgDABEAAAAADCBEAAAAAACBMAAQAAACBMAAQAAACAMAEQAAAAAMIEQAAAAAAIEwABAAAAIEwABAAAAIAwARAAAAAAwgRAAAAAAAgTAAEAAAAgTAAEAAAAgDABEAAAAADCBEAAAAAACBMAAQAAACBMAAQAAACAMAEQAAAAAMIEQAAAAAAIEwABAAAAIEwABAAAAIAwARAAAAAAwgRAAAAAAAgTAAEAAAAgTAAEAAAAgDABEAAAAADCBEAAAAAACBMAAQAAACBMAAQAAACAMAEQAAAAAMIEQAAAAAAIEwABAAAAIEwABAAAAIAwARAAAAAAwgRAAAAAAAgTAAEAAAAgTAAEAAAAgDABEAAAAADCBEAAAAAACBMAAQAAACBMAAQAAACAMAEQAAAAAMIEQAAAAAAIEwABAAAAIEwABAAAAIAwARAAAAAAwgRAAAAAAAgTAAEAAAAgTAAEAAAAgDABEAAAAADCBEAAAAAACBMAAQAAACBMAAQAAACAMAEQAAAAAMIEQAAAAAAIEwABAAAAIEwABAAAAIAwARAAAAAAwgRAAAAAAAgTAAEAAAAgTAAEAAAAgDABEAAAAADCBEAAAAAACBMAAQAAACBMAAQAAACAMAEQAAAAAMIEQAAAAAAIEwABAAAAIEwABAAAAIAwARAAAAAAwgRAAAAAAAgTAAEAAAAgTAAEAAAAgDABEAAAAADCBEAAAAAACBMAAQAAACBMAAQAAACAMAEQAAAAAMIEQAAAAAAIO4weAADg1fz4eB89AvAifr9/jB4BgA2wAQgAAAAAYTYAAQAGeTufR48ARJ2Ox9EjALAhNgABAAAAIEwABAAAAIAwARAAAAAAwgRAAAAAAAgTAAEAAAAgTAAEAAAAgDABEAAAAADCBEAAAAAACBMAAQAAACBMAAQAAACAMAEQAAAAAMIEQAAAAAAIEwABAAAAIEwABAAAAIAwARAAAAAAwgRAAAAAAAgTAAEAAAAgTAAEAAAAgDABEAAAAADCBEAAAAAACBMAAQAAACBMAAQAAACAMAEQAAAAAMIEQAAAAAAIEwABAAAAIEwABAAAAIAwARAAAAAAwgRAAAAAAAgTAAEAAAAgTAAEAAAAgDABEAAAAADCBEAAAAAACBMAAQAAACBMAAQAAACAMAEQAAAAAMIEQAAAAAAIEwABAAAAIEwABAAAAIAwARAAAAAAwgRAAAAAAAgTAAEAAAAgTAAEAAAAgDABEAAAAADCBEAAAAAACBMAAQAAACBMAAQAAACAMAEQAAAAAMIEQAAAAAAIEwABAAAAIEwABAAAAIAwARAAAAAAwgRAAAAAAAgTAAEAAAAgTAAEAAAAgDABEAAAAADCBEAAAAAACBMAAQAAACBMAAQAAACAMAEQAAAAAMIEQAAAAAAIEwABAAAAIEwABAAAAIAwARAAAAAAwgRAAAAAAAgTAAEAAAAgTAAEAAAAgDABEAAAAADCBEAAAAAACBMAAQAAACBMAAQAAACAMAEQAAAAAMIEQAAAAAAIEwABAAAAIEwABAAAAIAwARAAAAAAwgRAAAAAAAgTAAEAAAAgTAAEAAAAgDABEAAAAADCBEAAAAAACBMAAQAAACBMAAQAAACAMAEQAAAAAMIEQAAAAAAIEwABAAAAIEwABAAAAIAwARAAAAAAwgRAAAAAAAgTAAEAAAAgTAAEAAAAgDABEAAAAADCBEAAAAAACBMAAQAAACBMAAQAAACAMAEQAAAAAMIEQAAAAAAIEwABAAAAIEwABAAAAIAwARAAAAAAwgRAAAAAAAgTAAEAAAAgTAAEAAAAgDABEAAAAADCBEAAAAAACBMAAQAAACBMAAQAAACAMAEQAAAAAMIEQAAAAAAIEwABAAAAIEwABAAAAIAwARAAAAAAwgRAAAAAAAgTAAEAAAAgTAAEAAAAgDABEAAAAADCBEAAAAAACBMAAQAAACBMAAQAAACAMAEQAAAAAMIEQAAAAAAIEwABAAAAIEwABAAAAIAwARAAAAAAwgRAAAAAAAgTAAEAAAAgTAAEAAAAgDABEAAAAADCBEAAAAAACBMAAQAAACBMAAQAAACAMAEQAAAAAMIEQAAAAAAIEwABAAAAIEwABAAAAIAwARAAAAAAwgRAAAAAAAgTAAEAAAAgTAAEAAAAgDABEAAAAADCBEAAAAAACBMAAQAAACBMAAQAAACAMAEQAAAAAMIEQAAAAAAIEwABAAAAIEwABAAAAICww+gBAADgVUzTdPd353lecBIA4JUIgAAAsAP/jIdiIABwC0eAAQBgZx7ZJAQAXo8ACAAAOyQCAgDXEgABAAAAIMwdgAAAMNhXd/p9tek3TZP7AAGAb9kABACADRP4AIBHCYAAALBxIiAA8AgBEAAAAADCBEAAAAAACPMICLCqHx/vo0cA2KzT8Th6hE17O59HjwAAkGADEAAANu7SS8DuBgQArmEDEHgKWxwAf/vc/PPf+P9sRv7bpfgHAHAtARAAAAa7J/LZ/gMAriUAAgDAjgh/AMCt3AEIAAA74kgwAHArARAAAHZmmiYhEAC4mgAIAAA7JQICANdwByAAAAz21b1+Ih8A8CgbgAAAsGHzPAuEAMBDBEAAANgBr/8CAPcSAAEAAAAgTAAEAAAAgDABEAAAAADCBEAAANgBj30AAPcSAAEAAAAg7DB6AAAA4LLvNv+8DgwAfEcABACAwRzvBQDW5AgwAADslO0/AOAaAiAAAOyQ+AcAXMsRYAAA2BHhDwC4lQAIAAAbJ/oBAI8QAAEA4EmEPABgBHcAAgAAAECYAAgAAAAAYQIgAAAAAIQJgAAAAAAQJgACAAAAQJgACAAAAABhAiAAAAAAhAmAAAAAABAmAAIAAABAmAAIAAAAAGECIAAAAACECYAAAAAAECYAAgAAAECYAAgAAAAAYQIgAAAAAIQJgAAAAAAQJgACAAAAQJgACAAAAABhAiAAAAAAhAmAAAAAABAmAAIAAABAmAAIAAAAAGECIAAAAACECYAAAAAAECYAAgAAAECYAAgAAAAAYQIgAAAAAIQJgAAAAAAQJgACAAAAQJgACAAAAABhAiAAAAAAhAmAAAAAABAmAAIAAABAmAAIAAAAAGECIAAAAACECYAAAAAAECYAAgAAAECYAAgAAAAAYQIgAAAAAIQJgAAAAAAQJgACAAAAQJgACAAAAABhAiAAAAAAhAmAAAAAABAmAAIAAABAmAAIAAAAAGECIAAAAACECYAAAAAAECYAAgAAAECYAAgAAAAAYQIgAAAAAIQJgAAAAAAQJgACAAAAQJgACAAAAABhAiAAAAAAhAmAAAAAABAmAAIAAABAmAAIAAAAAGECIAAAAACECYAAAAAAECYAAgAAAECYAAgAAAAAYQIgAAAAAIQJgAAAAAAQJgACAAAAQJgACAAAAABhAiAAAAAAhAmAAAAAABAmAAIAAABAmAAIAAAAAGECIAAAAACECYAAAAAAECYAAgAAAECYAAgAAAAAYQIgAAAAAIQJgAAAAAAQJgACAAAAQJgACAAAAABhAiAAAAAAhAmAAAAAABAmAAIAAABAmAAIAAAAAGECIAAAAACECYAAAAAAECYAAgAAAECYAAgAAAAAYQIgAAAAAIQJgAAAAAAQJgACAAAAQJgACAAAAABhAiAAAAAAhAmAAAAAABAmAAIAAABAmAAIAAAAAGECIAAAAACECYAAAAAAECYAAgAAAECYAAgAAAAAYQIgAAAAAIQJgAAAAAAQJgACAAAAQJgACAAAAABhAiAAAAAAhAmAAAAAABAmAAIAAABAmAAIAAAAAGECIAAAAACECYAAAAAAECYAAgAAAECYAAgAAAAAYQIgAAAAAIQJgAAAAAAQJgACAAAAQJgACAAAAABhAiAAAAAAhAmAAAAAABAmAAIAAABAmAAIAAAAAGECIAAAAACECYAAAAAAECYAAgAAAECYAAgAAAAAYQIgAAAAAIQJgAAAAAAQJgACAAAAQJgACAAAAABhAiAAAAAAhAmAAAAAABAmAAIAAABAmAAIAAAAAGECIAAAAACECYAAAAAAECYAAgAAAECYAAgAAAAAYQIgAAAAAIQdRg8AAHXTNH37mXmenzAJAADwimwAAgAAAECYAAgAG3DNliAAAMA9BEAAAAAACBMAAWBFNvsAAIDRBEAAeLJLD36IhQAAwBoEQAAAAAAIEwABYCU2+gAAgC0QAAEAAAAgTAAEgCf6vP/PPYAAAMCzCIAAAAAAECYAAsAKbPIBAABbIQACwMaIhwAAwJIEQAB4kv/e+3fpHkAAAIAlCYAAsDAbfAAAwJYIgACwQSIiAACwFAEQAAZyDBgAAFibAAgATyD0AQAAowiAALAgR3cBAICtEQABYKPERAAAYAkCIAAM5ngwAACwpsPoAQCg4quNPdt8AADAKDYAAWDDhEMAAOBRAiAAAAAAhAmAAAAAABAmAALAAtY8qusYMAAA8AiPgADAim554VfoAwAA1mADEAA24pZYCAAAcC0BEAAedGlzT9ADAAC2QAAEgB1wPBgAALiXAAgAAAAAYQIgAGyIY8MAAMDSvAIMAA9aOtqJgAAAwJJsAAIAAABAmA1AAIBBTsfj6BE2ze8DALAMG4AAAAAAEGYDEADgyd7O59EjbNrn5t/v94/BkwAANNgABAAAAIAwARAAAAAAwgRAAAAAAAgTAAEAAAAgTAAEAAAAgDABEAAAAADCBEAAAAAACBMAAQAAACBMAAQAAACAMAEQAAAAAMIEQAAAAAAIEwABAAAAIEwABAAAAIAwARAAAAAAwgRAAAAAAAgTAAEAAAAgTAAEAAAAgDABEAAAAADCBEAAAAAACBMAAQAAACBMAAQAAACAMAEQAAAAAMIEQAAAAAAIEwABAAAAIEwABAAAAIAwARAAAAAAwgRAAAAAAAgTAAEAAAAgTAAEAAAAgDABEAAAAADCBEAAAAAACBMAAQAAACBMAAQAAACAMAEQAAAAAMIEQAAAAAAIEwABAAAAIEwABAAAAIAwARAAAAAAwgRAAAAAAAgTAAEAAAAgTAAEAAAAgDABEAAAAADCBEAAAAAACBMAAQAAACBMAAQAAACAMAEQAAAAAMIEQAAAAAAIEwABAAAAIEwABAAAAIAwARAAAAAAwgRAAAAAAAgTAAEAAAAgTAAEAAAAgDABEAAAAADCBEAAAAAACBMAAQAAACBMAAQAAACAMAEQAAAAAMIEQAAAAAAIEwABAAAAIEwABAAAAIAwARAAAAAAwgRAAAAAAAgTAAEAAAAgTAAEAAAAgDABEAAAAADCBEAAAAAACBMAAQAAACBMAAQAAACAMAEQAAAAAMIEQAAAAAAIEwABAAAAIEwABAAAAIAwARAAAAAAwgRAAAAAAAgTAAEAAAAgTAAEAAAAgDABEAAAAADCBEAAAAAACBMAAQAAACBMAAQAAACAMAEQAAAAAMIEQAAAAAAIEwABAAAAIEwABAAAAIAwARAAAAAAwgRAAAAAAAgTAAEAAAAgTAAEAAAAgDABEAAAAADCBEAAAAAACBMAAQAAACBMAAQAAACAMAEQAAAAAMIEQAAAAAAIEwABAAAAIEwABAAAAIAwARAAAAAAwgRAAAAAAAgTAAEAAAAgTAAEAAAAgDABEAAAAADCBEAAAAAACBMAAQAAACBMAAQAAACAMAEQAAAAAMIEQAAAAAAIEwABAAAAIEwABAAAAIAwARAAAAAAwgRAAAAAAAgTAAEAAAAgTAAEAAAAgDABEAAAAADCBEAAAAAACBMAAQAAACBMAAQAAACAMAEQAAAAAMIEQAAAAAAIEwABAAAAIEwABAAAAIAwARAAAAAAwgRAAAAAAAgTAAEAAAAgTAAEAAAAgDABEAAAAADCBEAAAAAACBMAAQAAACBMAAQAAACAMAEQAAAAAMIEQAAAAAAIEwABAAAAIEwABAAAAIAwARAAAAAAwgRAAAAAAAgTAAEAAAAgTAAEAAAAgDABEAAAAADCBEAAAAAACBMAAQAAACBMAAQAAACAMAEQAAAAAMIEQAAAAAAIEwABAAAAIEwABAAAAIAwARAAAAAAwgRAAAAAAAg7jB4AeA2n43H0CAAAAPCSbAACAAAAQNj08/RrHj0EAAAAALAOG4AAAAAAECYAAgAAAECYAAgAAAAAYQIgAAAAAIQJgAAAAAAQJgACAAAAQJgACAAAAABhAiAAAAAAhAmAAAAAABAmAAIAAABAmAAIAAAAAGECIAAAAACECYAAAAAAECYAAgAAAECYAAgAAAAAYQIgAAAAAIQJgAAAAAAQJgACAAAAQJgACAAAAABhAiAAAAAAhAmAAAAAABAmAAIAAABAmAAIAAAAAGECIAAAAACECYAAAAAAECYAAgAAAECYAAgAAAAAYQIgAAAAAIQJgAAAAAAQJgACAAAAQJgACAAAAABhAiAAAAAAhAmAAAAAABAmAAIAAABAmAAIAAAAAGECIAAAAACECYAAAAAAECYAAgAAAECYAAgAAAAAYQIgAAAAAIQJgAAAAAAQJgACAAAAQJgACAAAAABhAiAAAAAAhAmAAAAAABAmAAIAAABAmAAIAAAAAGECIAAAAACECYAAAAAAECYAAgAAAECYAAgAAAAAYQIgAAAAAIQJgAAAAAAQJgACAAAAQJgACAAAAABhAiAAAAAAhAmAAAAAABAmAAIAAABAmAAIAAAAAGECIAAAAACECYAAAAAAECYAAgAAAECYAAgAAAAAYQIgAAAAAIQJgAAAAAAQJgACAAAAQJgACAAAAABhAiAAAAAAhAmAAAAAABAmAAIAAABAmAAIAAAAAGECIAAAAACECYAAAAAAECYAAgAAAECYAAgAAAAAYQIgAAAAAIQJgAAAAAAQJgACAAAAQJgACAAAAABhAiAAAAAAhAmAAAAAABAmAAIAAABAmAAIAAAAAGECIAAAAACECYAAAAAAECYAAgAAAECYAAgAAAAAYQIgAAAAAIQJgAAAAAAQJgACAAAAQJgACAAAAABhAiAAAAAAhAmAAAAAABAmAAIAAABAmAAIAAAAAGECIAAAAACECYAAAAAAECYAAgAAAECYAAgAAAAAYQIgAAAAAIQJgAAAAAAQJgACAAAAQJgACAAAAABhAiAAAAAAhAmAAAAAABAmAAIAAABA2F+3fIoMefbR7gAAAABJRU5ErkJggg==)\n",
    "\n",
    "\n",
    "The x and y axes of both boxes are aligned, which means we can use AABB collision detection to check for collision between them."
   ]
  },
  {
   "cell_type": "code",
   "execution_count": 147,
   "metadata": {},
   "outputs": [],
   "source": [
    "class RectCollider(Object2D):\n",
    "    def __init__(self, position, width, height, mass=1):\n",
    "        super().__init__(position)\n",
    "        self.width = width\n",
    "        self.height = height\n",
    "        self.others = []\n",
    "        self.velocity = Vector2D(0, 0)\n",
    "        self.max_speed = 3\n",
    "        self.mass = mass\n",
    "        self.fill_style = \"black\"\n",
    "        \n",
    "    def addObject(self, other):\n",
    "        self.others.append(other)\n",
    "\n",
    "    def checkCollision(self):\n",
    "        \"\"\"\n",
    "            AABB\n",
    "        \"\"\"\n",
    "        for other in self.others:\n",
    "            if self.position.x < (other.position.x + other.width) \\\n",
    "                and (self.position.x + self.width) > other.position.x \\\n",
    "                and self.position.y < (other.position.y + other.height) \\\n",
    "                    and self.position.y + self.height > other.position.y:\n",
    "                    self.fill_style = \"red\"\n",
    "                    return True\n",
    "                    \n",
    "            else:\n",
    "                self.fill_style = \"black\"\n",
    "                return False\n",
    "                \n",
    "                        \n",
    "\n",
    "    def bounce(self, canvas):\n",
    "        if self.position.x+self.width > canvas.width:\n",
    "            self.position.x = canvas.width - self.width\n",
    "            self.velocity.x *= -1\n",
    "\n",
    "        elif self.position.x < 0:\n",
    "            self.position.x = 0\n",
    "            self.velocity.x *= -1\n",
    "\n",
    "\n",
    "    def update(self, canvas):\n",
    "        self.velocity.limit(5)\n",
    "        self.position += self.velocity\n",
    "        self.bounce(canvas)\n",
    "        self.checkCollision()\n",
    "\n",
    "    def draw(self, canvas):\n",
    "        canvas.stroke_style = \"black\"\n",
    "        canvas.stroke_rect(self.position.x, self.position.y,\n",
    "                           self.width, self.height)\n",
    "\n",
    "        canvas.global_alpha = 0.3\n",
    "        canvas.fill_style = self.fill_style\n",
    "        canvas.fill_rect(self.position.x, self.position.y,\n",
    "                         self.width, self.height)\n",
    "        canvas.global_alpha = 1"
   ]
  },
  {
   "cell_type": "code",
   "execution_count": 153,
   "metadata": {},
   "outputs": [
    {
     "data": {
      "application/vnd.jupyter.widget-view+json": {
       "model_id": "e1db011303814f7e89d48aeae7546c5b",
       "version_major": 2,
       "version_minor": 0
      },
      "text/plain": [
       "MultiCanvas(height=200, width=500)"
      ]
     },
     "metadata": {},
     "output_type": "display_data"
    }
   ],
   "source": [
    "sim = Simulation(500, 200)\n",
    "\n",
    "v = Vector2D(3, 0)\n",
    "\n",
    "obj1 = RectCollider( position=Vector2D(0, 75),\n",
    "                     width = 50,\n",
    "                     height = 50)\n",
    "obj1.velocity = v\n",
    "obj2 = RectCollider( position=Vector2D(450, 75),\n",
    "                     width = 50,\n",
    "                     height = 50)\n",
    "obj2.velocity = v*-1\n",
    "\n",
    "obj1.addObject(obj2) # cross ref, most probably mem leak\n",
    "obj2.addObject(obj1)\n",
    "\n",
    "sim.addObject(obj1)\n",
    "sim.addObject(obj2)\n",
    "sim.run(10)"
   ]
  },
  {
   "cell_type": "markdown",
   "metadata": {},
   "source": [
    "### Elastic collision\n",
    "\n",
    "\n",
    "An elastic collision is an encounter between two bodies in which the total kinetic energy of the two bodies remains the same. In an ideal, perfectly elastic collision, there is no net conversion of kinetic energy into other forms such as heat, noise, or potential energy. \n",
    "\n",
    "In an elastic collision, both momentum and kinetic energy are conserved. Consider object 1 and 2 with masses $ m_1 , m_2 $, and velocities $ \\vec{u_1}, \\vec{u_2} $ before collision, $ \\vec{u_1}, \\vec{u_2} $ after collision. \n",
    "\n",
    "The conservation of the total momentum before and after the collision is expressed by:\n",
    "\n",
    "$$ m_1\\vec{u_1} + m_2\\vec{u_2} = m_1\\vec{v_1} + m_1\\vec{v_2} $$\n",
    "\n",
    "\n",
    "Likewise, the conservation of the total kinetic energy is expressed by:\n",
    "\n",
    "$$ \\frac{1}{2}m_1\\vec{u_1^2} + \\frac{1}{2}m_2\\vec{u_2^2} = \\frac{1}{2}m_1\\vec{v_1^2} + \\frac{1}{2}m_2\\vec{v_2^2} $$\n",
    "\n",
    "These equations may be solved directly to find $\\vec{v_1}, \\vec{v_2}$ when $\\vec{u_1}, \\vec{u_2}$ are known:\n",
    "\n",
    "\n",
    "$$ \\vec{v_1} = \\frac{m_1 - m_2}{m_1 + m_2}\\vec{u_1} + \\frac{2m_2}{m_1 + m_2}\\vec{u_2}$$\n",
    "\n",
    "$$ \\vec{v_2} = \\frac{2m_1}{m_1 + m_2}\\vec{u_1} + \\frac{m_2 - m_1}{m_1 + m_2}\\vec{u_2}$$\n",
    "\n"
   ]
  },
  {
   "cell_type": "markdown",
   "metadata": {},
   "source": [
    "## Check:\n",
    "\n",
    "- generalized coordinates\n",
    "- Hamilton equations\n",
    "- Fluid simulation\n",
    "- Real-time fluid for Games\n",
    "\n",
    "## 9. References\n",
    "\n",
    "- https://en.wikipedia.org/wiki/Physics_engine\n",
    "- https://en.wikipedia.org/wiki/Video_game_programming\n",
    "- https://en.wikipedia.org/wiki/Motion\n",
    "- https://en.wikipedia.org/wiki/Velocity\n",
    "- https://en.wikipedia.org/wiki/Collision_detection\n",
    "- https://en.wikipedia.org/wiki/Elastic_collision\n",
    "- https://natureofcode.com/\n",
    "- https://openstax.org/details/books/university-physics-volume-1\n",
    "- https://gafferongames.com/post/fix_your_timestep/\n",
    "- https://gafferongames.com/categories/game-physics/\n",
    "- https://gafferongames.com/post/integration_basics/"
   ]
  },
  {
   "cell_type": "code",
   "execution_count": null,
   "metadata": {},
   "outputs": [],
   "source": []
  },
  {
   "cell_type": "code",
   "execution_count": null,
   "metadata": {},
   "outputs": [],
   "source": []
  }
 ],
 "metadata": {
  "kernelspec": {
   "display_name": "Python 3",
   "language": "python",
   "name": "python3"
  },
  "language_info": {
   "codemirror_mode": {
    "name": "ipython",
    "version": 3
   },
   "file_extension": ".py",
   "mimetype": "text/x-python",
   "name": "python",
   "nbconvert_exporter": "python",
   "pygments_lexer": "ipython3",
   "version": "3.8.5"
  }
 },
 "nbformat": 4,
 "nbformat_minor": 4
}
